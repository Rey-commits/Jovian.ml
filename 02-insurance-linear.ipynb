{
 "cells": [
  {
   "cell_type": "markdown",
   "metadata": {
    "_cell_guid": "b1076dfc-b9ad-4769-8c92-a6c4dae69d19",
    "_uuid": "8f2839f25d086af736a60e9eeb907d3b93b6e0e5"
   },
   "source": [
    "# Insurance cost prediction using linear regression\n",
    "\n",
    "Make a submisson here: https://jovian.ai/learn/deep-learning-with-pytorch-zero-to-gans/assignment/assignment-2-train-your-first-model\n",
    "\n",
    "In this assignment we're going to use information like a person's age, sex, BMI, no. of children and smoking habit to predict the price of yearly medical bills. This kind of model is useful for insurance companies to determine the yearly insurance premium for a person. The dataset for this problem is taken from [Kaggle](https://www.kaggle.com/mirichoi0218/insurance).\n",
    "\n",
    "\n",
    "We will create a model with the following steps:\n",
    "1. Download and explore the dataset\n",
    "2. Prepare the dataset for training\n",
    "3. Create a linear regression model\n",
    "4. Train the model to fit the data\n",
    "5. Make predictions using the trained model\n",
    "\n",
    "\n",
    "This assignment builds upon the concepts from the first 2 lessons. It will help to review these Jupyter notebooks:\n",
    "- PyTorch basics: https://jovian.ai/aakashns/01-pytorch-basics\n",
    "- Linear Regression: https://jovian.ai/aakashns/02-linear-regression\n",
    "- Logistic Regression: https://jovian.ai/aakashns/03-logistic-regression\n",
    "- Linear regression (minimal): https://jovian.ai/aakashns/housing-linear-minimal\n",
    "- Logistic regression (minimal): https://jovian.ai/aakashns/mnist-logistic-minimal\n",
    "\n",
    "As you go through this notebook, you will find a **???** in certain places. Your job is to replace the **???** with appropriate code or values, to ensure that the notebook runs properly end-to-end . In some cases, you'll be required to choose some hyperparameters (learning rate, batch size etc.). Try to experiment with the hypeparameters to get the lowest loss.\n"
   ]
  },
  {
   "cell_type": "code",
   "execution_count": 1,
   "metadata": {},
   "outputs": [],
   "source": [
    "# Uncomment and run the appropriate command for your operating system, if required\n",
    "\n",
    "# Linux / Binder\n",
    "# !pip install numpy matplotlib pandas torch==1.7.0+cpu torchvision==0.8.1+cpu torchaudio==0.7.0 -f https://download.pytorch.org/whl/torch_stable.html\n",
    "\n",
    "# Windows\n",
    "# !pip install numpy matplotlib pandas torch==1.7.0+cpu torchvision==0.8.1+cpu torchaudio==0.7.0 -f https://download.pytorch.org/whl/torch_stable.html\n",
    "\n",
    "# MacOS\n",
    "# !pip install numpy matplotlib pandas torch torchvision torchaudio"
   ]
  },
  {
   "cell_type": "code",
   "execution_count": 2,
   "metadata": {},
   "outputs": [],
   "source": [
    "import torch\n",
    "import jovian\n",
    "import torchvision\n",
    "import torch.nn as nn\n",
    "import pandas as pd\n",
    "import matplotlib.pyplot as plt\n",
    "import torch.nn.functional as F\n",
    "from torchvision.datasets.utils import download_url\n",
    "from torch.utils.data import DataLoader, TensorDataset, random_split"
   ]
  },
  {
   "cell_type": "code",
   "execution_count": 3,
   "metadata": {},
   "outputs": [],
   "source": [
    "project_name='02-insurance-linear-regression' # will be used by jovian.commit"
   ]
  },
  {
   "cell_type": "markdown",
   "metadata": {},
   "source": [
    "## Step 1: Download and explore the data\n",
    "\n",
    "Let us begin by downloading the data. We'll use the `download_url` function from PyTorch to get the data as a CSV (comma-separated values) file. "
   ]
  },
  {
   "cell_type": "code",
   "execution_count": 4,
   "metadata": {
    "_cell_guid": "79c7e3d0-c299-4dcb-8224-4455121ee9b0",
    "_uuid": "d629ff2d2480ee46fbb7e2d37f6b5fab8052498a"
   },
   "outputs": [
    {
     "name": "stdout",
     "output_type": "stream",
     "text": [
      "Using downloaded and verified file: ./insurance.csv\n"
     ]
    }
   ],
   "source": [
    "DATASET_URL = \"https://hub.jovian.ml/wp-content/uploads/2020/05/insurance.csv\"\n",
    "DATA_FILENAME = \"insurance.csv\"\n",
    "download_url(DATASET_URL, '.')"
   ]
  },
  {
   "cell_type": "markdown",
   "metadata": {},
   "source": [
    "To load the dataset into memory, we'll use the `read_csv` function from the `pandas` library. The data will be loaded as a Pandas dataframe. See this short tutorial to learn more: https://data36.com/pandas-tutorial-1-basics-reading-data-files-dataframes-data-selection/"
   ]
  },
  {
   "cell_type": "code",
   "execution_count": 5,
   "metadata": {},
   "outputs": [
    {
     "data": {
      "text/html": [
       "<div>\n",
       "<style scoped>\n",
       "    .dataframe tbody tr th:only-of-type {\n",
       "        vertical-align: middle;\n",
       "    }\n",
       "\n",
       "    .dataframe tbody tr th {\n",
       "        vertical-align: top;\n",
       "    }\n",
       "\n",
       "    .dataframe thead th {\n",
       "        text-align: right;\n",
       "    }\n",
       "</style>\n",
       "<table border=\"1\" class=\"dataframe\">\n",
       "  <thead>\n",
       "    <tr style=\"text-align: right;\">\n",
       "      <th></th>\n",
       "      <th>age</th>\n",
       "      <th>sex</th>\n",
       "      <th>bmi</th>\n",
       "      <th>children</th>\n",
       "      <th>smoker</th>\n",
       "      <th>region</th>\n",
       "      <th>charges</th>\n",
       "    </tr>\n",
       "  </thead>\n",
       "  <tbody>\n",
       "    <tr>\n",
       "      <th>0</th>\n",
       "      <td>19</td>\n",
       "      <td>female</td>\n",
       "      <td>27.900</td>\n",
       "      <td>0</td>\n",
       "      <td>yes</td>\n",
       "      <td>southwest</td>\n",
       "      <td>16884.92400</td>\n",
       "    </tr>\n",
       "    <tr>\n",
       "      <th>1</th>\n",
       "      <td>18</td>\n",
       "      <td>male</td>\n",
       "      <td>33.770</td>\n",
       "      <td>1</td>\n",
       "      <td>no</td>\n",
       "      <td>southeast</td>\n",
       "      <td>1725.55230</td>\n",
       "    </tr>\n",
       "    <tr>\n",
       "      <th>2</th>\n",
       "      <td>28</td>\n",
       "      <td>male</td>\n",
       "      <td>33.000</td>\n",
       "      <td>3</td>\n",
       "      <td>no</td>\n",
       "      <td>southeast</td>\n",
       "      <td>4449.46200</td>\n",
       "    </tr>\n",
       "    <tr>\n",
       "      <th>3</th>\n",
       "      <td>33</td>\n",
       "      <td>male</td>\n",
       "      <td>22.705</td>\n",
       "      <td>0</td>\n",
       "      <td>no</td>\n",
       "      <td>northwest</td>\n",
       "      <td>21984.47061</td>\n",
       "    </tr>\n",
       "    <tr>\n",
       "      <th>4</th>\n",
       "      <td>32</td>\n",
       "      <td>male</td>\n",
       "      <td>28.880</td>\n",
       "      <td>0</td>\n",
       "      <td>no</td>\n",
       "      <td>northwest</td>\n",
       "      <td>3866.85520</td>\n",
       "    </tr>\n",
       "  </tbody>\n",
       "</table>\n",
       "</div>"
      ],
      "text/plain": [
       "   age     sex     bmi  children smoker     region      charges\n",
       "0   19  female  27.900         0    yes  southwest  16884.92400\n",
       "1   18    male  33.770         1     no  southeast   1725.55230\n",
       "2   28    male  33.000         3     no  southeast   4449.46200\n",
       "3   33    male  22.705         0     no  northwest  21984.47061\n",
       "4   32    male  28.880         0     no  northwest   3866.85520"
      ]
     },
     "execution_count": 5,
     "metadata": {},
     "output_type": "execute_result"
    }
   ],
   "source": [
    "dataframe_raw = pd.read_csv(DATA_FILENAME)\n",
    "dataframe_raw.head()"
   ]
  },
  {
   "cell_type": "markdown",
   "metadata": {},
   "source": [
    "We're going to do a slight customization of the data, so that you every participant receives a slightly different version of the dataset. Fill in your name below as a string (enter at least 5 characters)"
   ]
  },
  {
   "cell_type": "code",
   "execution_count": 6,
   "metadata": {},
   "outputs": [],
   "source": [
    "your_name = \"Reymond\" # at least 5 characters"
   ]
  },
  {
   "cell_type": "markdown",
   "metadata": {},
   "source": [
    "The `customize_dataset` function will customize the dataset slightly using your name as a source of random numbers."
   ]
  },
  {
   "cell_type": "code",
   "execution_count": 7,
   "metadata": {},
   "outputs": [],
   "source": [
    "def customize_dataset(dataframe_raw, rand_str):\n",
    "    dataframe = dataframe_raw.copy(deep=True)\n",
    "    # drop some rows\n",
    "    dataframe = dataframe.sample(int(0.95*len(dataframe)), random_state=int(ord(rand_str[0])))\n",
    "    # scale input\n",
    "    dataframe.bmi = dataframe.bmi * ord(rand_str[1])/100.\n",
    "    # scale target\n",
    "    dataframe.charges = dataframe.charges * ord(rand_str[2])/100.\n",
    "    # drop column\n",
    "    if ord(rand_str[3]) % 2 == 1:\n",
    "        dataframe = dataframe.drop(['region'], axis=1)\n",
    "    return dataframe"
   ]
  },
  {
   "cell_type": "code",
   "execution_count": 8,
   "metadata": {},
   "outputs": [
    {
     "data": {
      "text/html": [
       "<div>\n",
       "<style scoped>\n",
       "    .dataframe tbody tr th:only-of-type {\n",
       "        vertical-align: middle;\n",
       "    }\n",
       "\n",
       "    .dataframe tbody tr th {\n",
       "        vertical-align: top;\n",
       "    }\n",
       "\n",
       "    .dataframe thead th {\n",
       "        text-align: right;\n",
       "    }\n",
       "</style>\n",
       "<table border=\"1\" class=\"dataframe\">\n",
       "  <thead>\n",
       "    <tr style=\"text-align: right;\">\n",
       "      <th></th>\n",
       "      <th>age</th>\n",
       "      <th>sex</th>\n",
       "      <th>bmi</th>\n",
       "      <th>children</th>\n",
       "      <th>smoker</th>\n",
       "      <th>charges</th>\n",
       "    </tr>\n",
       "  </thead>\n",
       "  <tbody>\n",
       "    <tr>\n",
       "      <th>457</th>\n",
       "      <td>57</td>\n",
       "      <td>female</td>\n",
       "      <td>30.79995</td>\n",
       "      <td>0</td>\n",
       "      <td>no</td>\n",
       "      <td>14327.337811</td>\n",
       "    </tr>\n",
       "    <tr>\n",
       "      <th>1050</th>\n",
       "      <td>44</td>\n",
       "      <td>female</td>\n",
       "      <td>37.32455</td>\n",
       "      <td>1</td>\n",
       "      <td>no</td>\n",
       "      <td>9707.993894</td>\n",
       "    </tr>\n",
       "    <tr>\n",
       "      <th>56</th>\n",
       "      <td>58</td>\n",
       "      <td>female</td>\n",
       "      <td>32.14325</td>\n",
       "      <td>2</td>\n",
       "      <td>no</td>\n",
       "      <td>16464.916187</td>\n",
       "    </tr>\n",
       "    <tr>\n",
       "      <th>311</th>\n",
       "      <td>19</td>\n",
       "      <td>female</td>\n",
       "      <td>24.94700</td>\n",
       "      <td>0</td>\n",
       "      <td>no</td>\n",
       "      <td>2102.224960</td>\n",
       "    </tr>\n",
       "    <tr>\n",
       "      <th>1288</th>\n",
       "      <td>20</td>\n",
       "      <td>male</td>\n",
       "      <td>39.79400</td>\n",
       "      <td>2</td>\n",
       "      <td>yes</td>\n",
       "      <td>46396.924860</td>\n",
       "    </tr>\n",
       "  </tbody>\n",
       "</table>\n",
       "</div>"
      ],
      "text/plain": [
       "      age     sex       bmi  children smoker       charges\n",
       "457    57  female  30.79995         0     no  14327.337811\n",
       "1050   44  female  37.32455         1     no   9707.993894\n",
       "56     58  female  32.14325         2     no  16464.916187\n",
       "311    19  female  24.94700         0     no   2102.224960\n",
       "1288   20    male  39.79400         2    yes  46396.924860"
      ]
     },
     "execution_count": 8,
     "metadata": {},
     "output_type": "execute_result"
    }
   ],
   "source": [
    "dataframe = customize_dataset(dataframe_raw, your_name)\n",
    "dataframe.head()"
   ]
  },
  {
   "cell_type": "markdown",
   "metadata": {},
   "source": [
    "Let us answer some basic questions about the dataset. \n",
    "\n",
    "\n",
    "**Q: How many rows does the dataset have?**"
   ]
  },
  {
   "cell_type": "code",
   "execution_count": 9,
   "metadata": {},
   "outputs": [
    {
     "data": {
      "text/html": [
       "<div>\n",
       "<style scoped>\n",
       "    .dataframe tbody tr th:only-of-type {\n",
       "        vertical-align: middle;\n",
       "    }\n",
       "\n",
       "    .dataframe tbody tr th {\n",
       "        vertical-align: top;\n",
       "    }\n",
       "\n",
       "    .dataframe thead th {\n",
       "        text-align: right;\n",
       "    }\n",
       "</style>\n",
       "<table border=\"1\" class=\"dataframe\">\n",
       "  <thead>\n",
       "    <tr style=\"text-align: right;\">\n",
       "      <th></th>\n",
       "      <th>age</th>\n",
       "      <th>sex</th>\n",
       "      <th>bmi</th>\n",
       "      <th>children</th>\n",
       "      <th>smoker</th>\n",
       "      <th>charges</th>\n",
       "    </tr>\n",
       "  </thead>\n",
       "  <tbody>\n",
       "    <tr>\n",
       "      <th>457</th>\n",
       "      <td>57</td>\n",
       "      <td>female</td>\n",
       "      <td>30.79995</td>\n",
       "      <td>0</td>\n",
       "      <td>no</td>\n",
       "      <td>14327.337811</td>\n",
       "    </tr>\n",
       "    <tr>\n",
       "      <th>1050</th>\n",
       "      <td>44</td>\n",
       "      <td>female</td>\n",
       "      <td>37.32455</td>\n",
       "      <td>1</td>\n",
       "      <td>no</td>\n",
       "      <td>9707.993894</td>\n",
       "    </tr>\n",
       "    <tr>\n",
       "      <th>56</th>\n",
       "      <td>58</td>\n",
       "      <td>female</td>\n",
       "      <td>32.14325</td>\n",
       "      <td>2</td>\n",
       "      <td>no</td>\n",
       "      <td>16464.916187</td>\n",
       "    </tr>\n",
       "    <tr>\n",
       "      <th>311</th>\n",
       "      <td>19</td>\n",
       "      <td>female</td>\n",
       "      <td>24.94700</td>\n",
       "      <td>0</td>\n",
       "      <td>no</td>\n",
       "      <td>2102.224960</td>\n",
       "    </tr>\n",
       "    <tr>\n",
       "      <th>1288</th>\n",
       "      <td>20</td>\n",
       "      <td>male</td>\n",
       "      <td>39.79400</td>\n",
       "      <td>2</td>\n",
       "      <td>yes</td>\n",
       "      <td>46396.924860</td>\n",
       "    </tr>\n",
       "    <tr>\n",
       "      <th>...</th>\n",
       "      <td>...</td>\n",
       "      <td>...</td>\n",
       "      <td>...</td>\n",
       "      <td>...</td>\n",
       "      <td>...</td>\n",
       "      <td>...</td>\n",
       "    </tr>\n",
       "    <tr>\n",
       "      <th>209</th>\n",
       "      <td>40</td>\n",
       "      <td>male</td>\n",
       "      <td>41.64230</td>\n",
       "      <td>1</td>\n",
       "      <td>no</td>\n",
       "      <td>7998.232737</td>\n",
       "    </tr>\n",
       "    <tr>\n",
       "      <th>1036</th>\n",
       "      <td>22</td>\n",
       "      <td>male</td>\n",
       "      <td>37.44070</td>\n",
       "      <td>2</td>\n",
       "      <td>yes</td>\n",
       "      <td>45356.183653</td>\n",
       "    </tr>\n",
       "    <tr>\n",
       "      <th>1206</th>\n",
       "      <td>59</td>\n",
       "      <td>female</td>\n",
       "      <td>35.14800</td>\n",
       "      <td>2</td>\n",
       "      <td>no</td>\n",
       "      <td>44661.835716</td>\n",
       "    </tr>\n",
       "    <tr>\n",
       "      <th>878</th>\n",
       "      <td>41</td>\n",
       "      <td>male</td>\n",
       "      <td>29.08800</td>\n",
       "      <td>1</td>\n",
       "      <td>no</td>\n",
       "      <td>7601.504350</td>\n",
       "    </tr>\n",
       "    <tr>\n",
       "      <th>887</th>\n",
       "      <td>36</td>\n",
       "      <td>female</td>\n",
       "      <td>30.32020</td>\n",
       "      <td>0</td>\n",
       "      <td>no</td>\n",
       "      <td>6379.332718</td>\n",
       "    </tr>\n",
       "  </tbody>\n",
       "</table>\n",
       "<p>1271 rows × 6 columns</p>\n",
       "</div>"
      ],
      "text/plain": [
       "      age     sex       bmi  children smoker       charges\n",
       "457    57  female  30.79995         0     no  14327.337811\n",
       "1050   44  female  37.32455         1     no   9707.993894\n",
       "56     58  female  32.14325         2     no  16464.916187\n",
       "311    19  female  24.94700         0     no   2102.224960\n",
       "1288   20    male  39.79400         2    yes  46396.924860\n",
       "...   ...     ...       ...       ...    ...           ...\n",
       "209    40    male  41.64230         1     no   7998.232737\n",
       "1036   22    male  37.44070         2    yes  45356.183653\n",
       "1206   59  female  35.14800         2     no  44661.835716\n",
       "878    41    male  29.08800         1     no   7601.504350\n",
       "887    36  female  30.32020         0     no   6379.332718\n",
       "\n",
       "[1271 rows x 6 columns]"
      ]
     },
     "execution_count": 9,
     "metadata": {},
     "output_type": "execute_result"
    }
   ],
   "source": [
    "dataframe"
   ]
  },
  {
   "cell_type": "code",
   "execution_count": 10,
   "metadata": {},
   "outputs": [
    {
     "name": "stdout",
     "output_type": "stream",
     "text": [
      "1271\n"
     ]
    }
   ],
   "source": [
    "num_rows = dataframe.age.size\n",
    "print(num_rows)"
   ]
  },
  {
   "cell_type": "markdown",
   "metadata": {},
   "source": [
    "**Q: How many columns doe the dataset have**"
   ]
  },
  {
   "cell_type": "code",
   "execution_count": 11,
   "metadata": {},
   "outputs": [
    {
     "name": "stdout",
     "output_type": "stream",
     "text": [
      "6\n"
     ]
    }
   ],
   "source": [
    "num_cols = dataframe.columns.size\n",
    "print(num_cols)"
   ]
  },
  {
   "cell_type": "markdown",
   "metadata": {},
   "source": [
    "**Q: What are the column titles of the input variables?**"
   ]
  },
  {
   "cell_type": "code",
   "execution_count": 12,
   "metadata": {},
   "outputs": [],
   "source": [
    "input_cols = ['age', 'sex', 'bmi', 'children', 'smoker']"
   ]
  },
  {
   "cell_type": "markdown",
   "metadata": {},
   "source": [
    "**Q: Which of the input columns are non-numeric or categorial variables ?**\n",
    "\n",
    "Hint: `sex` is one of them. List the columns that are not numbers."
   ]
  },
  {
   "cell_type": "code",
   "execution_count": 13,
   "metadata": {},
   "outputs": [],
   "source": [
    "categorical_cols = [\"sex\",\"smoker\"]"
   ]
  },
  {
   "cell_type": "markdown",
   "metadata": {},
   "source": [
    "**Q: What are the column titles of output/target variable(s)?**"
   ]
  },
  {
   "cell_type": "code",
   "execution_count": 14,
   "metadata": {},
   "outputs": [],
   "source": [
    "output_cols = [\"charges\"]"
   ]
  },
  {
   "cell_type": "markdown",
   "metadata": {},
   "source": [
    "**Q: (Optional) What is the minimum, maximum and average value of the `charges` column? Can you show the distribution of values in a graph?**\n",
    "Use this data visualization cheatsheet for referece: https://jovian.ml/aakashns/dataviz-cheatsheet"
   ]
  },
  {
   "cell_type": "code",
   "execution_count": 15,
   "metadata": {},
   "outputs": [
    {
     "name": "stdout",
     "output_type": "stream",
     "text": [
      "min 1357.4674189999998\n",
      "max 77162.2178921\n",
      "avg 15876.391392255382\n"
     ]
    },
    {
     "name": "stderr",
     "output_type": "stream",
     "text": [
      "/home/reymond/anaconda3/lib/python3.7/site-packages/seaborn/distributions.py:2557: FutureWarning: `distplot` is a deprecated function and will be removed in a future version. Please adapt your code to use either `displot` (a figure-level function with similar flexibility) or `histplot` (an axes-level function for histograms).\n",
      "  warnings.warn(msg, FutureWarning)\n"
     ]
    },
    {
     "data": {
      "text/plain": [
       "<AxesSubplot:title={'center':'Distribution of charges'}, xlabel='charges'>"
      ]
     },
     "execution_count": 15,
     "metadata": {},
     "output_type": "execute_result"
    },
    {
     "data": {
      "image/png": "[encoded data removed]",
      "text/plain": [
       "<Figure size 432x288 with 1 Axes>"
      ]
     },
     "metadata": {
      "needs_background": "light"
     },
     "output_type": "display_data"
    }
   ],
   "source": [
    "# Write your answer here\n",
    "print(\"min\", dataframe.charges.min())\n",
    "print(\"max\", dataframe.charges.max())\n",
    "print(\"avg\", dataframe.charges.mean())\n",
    "\n",
    "import seaborn as sns\n",
    "plt.title(\"Distribution of charges\")\n",
    "sns.distplot(dataframe.charges, kde=False)"
   ]
  },
  {
   "cell_type": "markdown",
   "metadata": {},
   "source": [
    "Remember to commit your notebook to Jovian after every step, so that you don't lose your work."
   ]
  },
  {
   "cell_type": "code",
   "execution_count": 16,
   "metadata": {},
   "outputs": [],
   "source": [
    "!pip install jovian --upgrade -q"
   ]
  },
  {
   "cell_type": "code",
   "execution_count": 17,
   "metadata": {},
   "outputs": [],
   "source": [
    "import jovian"
   ]
  },
  {
   "cell_type": "code",
   "execution_count": 18,
   "metadata": {},
   "outputs": [
    {
     "data": {
      "application/javascript": [
       "window.require && require([\"base/js/namespace\"],function(Jupyter){Jupyter.notebook.save_checkpoint()})"
      ],
      "text/plain": [
       "<IPython.core.display.Javascript object>"
      ]
     },
     "metadata": {},
     "output_type": "display_data"
    },
    {
     "name": "stdout",
     "output_type": "stream",
     "text": [
      "[jovian] Attempting to save notebook..\u001b[0m\n",
      "[jovian] Updating notebook \"mesugareymondrobin/02-insurance-linear-regression\" on https://jovian.ai/\u001b[0m\n",
      "[jovian] Uploading notebook..\u001b[0m\n",
      "[jovian] Capturing environment..\u001b[0m\n",
      "[jovian] Committed successfully! https://jovian.ai/mesugareymondrobin/02-insurance-linear-regression\u001b[0m\n"
     ]
    },
    {
     "data": {
      "text/plain": [
       "'https://jovian.ai/mesugareymondrobin/02-insurance-linear-regression'"
      ]
     },
     "execution_count": 18,
     "metadata": {},
     "output_type": "execute_result"
    }
   ],
   "source": [
    "jovian.commit()"
   ]
  },
  {
   "cell_type": "markdown",
   "metadata": {},
   "source": [
    "## Step 2: Prepare the dataset for training\n",
    "\n",
    "We need to convert the data from the Pandas dataframe into a PyTorch tensors for training. To do this, the first step is to convert it numpy arrays. If you've filled out `input_cols`, `categorial_cols` and `output_cols` correctly, this following function will perform the conversion to numpy arrays."
   ]
  },
  {
   "cell_type": "code",
   "execution_count": 19,
   "metadata": {},
   "outputs": [],
   "source": [
    "def dataframe_to_arrays(dataframe):\n",
    "    # Make a copy of the original dataframe\n",
    "    dataframe1 = dataframe.copy(deep=True)\n",
    "    # Convert non-numeric categorical columns to numbers\n",
    "    for col in categorical_cols:\n",
    "        dataframe1[col] = dataframe1[col].astype('category').cat.codes\n",
    "    # Extract input & outupts as numpy arrays\n",
    "    inputs_array = dataframe1[input_cols].to_numpy()\n",
    "    targets_array = dataframe1[output_cols].to_numpy()\n",
    "    return inputs_array, targets_array"
   ]
  },
  {
   "cell_type": "markdown",
   "metadata": {},
   "source": [
    "Read through the [Pandas documentation](https://pandas.pydata.org/pandas-docs/stable/user_guide/categorical.html) to understand how we're converting categorical variables into numbers."
   ]
  },
  {
   "cell_type": "code",
   "execution_count": 20,
   "metadata": {},
   "outputs": [
    {
     "data": {
      "text/html": [
       "<div>\n",
       "<style scoped>\n",
       "    .dataframe tbody tr th:only-of-type {\n",
       "        vertical-align: middle;\n",
       "    }\n",
       "\n",
       "    .dataframe tbody tr th {\n",
       "        vertical-align: top;\n",
       "    }\n",
       "\n",
       "    .dataframe thead th {\n",
       "        text-align: right;\n",
       "    }\n",
       "</style>\n",
       "<table border=\"1\" class=\"dataframe\">\n",
       "  <thead>\n",
       "    <tr style=\"text-align: right;\">\n",
       "      <th></th>\n",
       "      <th>age</th>\n",
       "      <th>sex</th>\n",
       "      <th>bmi</th>\n",
       "      <th>children</th>\n",
       "      <th>smoker</th>\n",
       "    </tr>\n",
       "  </thead>\n",
       "  <tbody>\n",
       "    <tr>\n",
       "      <th>457</th>\n",
       "      <td>57</td>\n",
       "      <td>female</td>\n",
       "      <td>30.79995</td>\n",
       "      <td>0</td>\n",
       "      <td>no</td>\n",
       "    </tr>\n",
       "    <tr>\n",
       "      <th>1050</th>\n",
       "      <td>44</td>\n",
       "      <td>female</td>\n",
       "      <td>37.32455</td>\n",
       "      <td>1</td>\n",
       "      <td>no</td>\n",
       "    </tr>\n",
       "    <tr>\n",
       "      <th>56</th>\n",
       "      <td>58</td>\n",
       "      <td>female</td>\n",
       "      <td>32.14325</td>\n",
       "      <td>2</td>\n",
       "      <td>no</td>\n",
       "    </tr>\n",
       "    <tr>\n",
       "      <th>311</th>\n",
       "      <td>19</td>\n",
       "      <td>female</td>\n",
       "      <td>24.94700</td>\n",
       "      <td>0</td>\n",
       "      <td>no</td>\n",
       "    </tr>\n",
       "    <tr>\n",
       "      <th>1288</th>\n",
       "      <td>20</td>\n",
       "      <td>male</td>\n",
       "      <td>39.79400</td>\n",
       "      <td>2</td>\n",
       "      <td>yes</td>\n",
       "    </tr>\n",
       "    <tr>\n",
       "      <th>...</th>\n",
       "      <td>...</td>\n",
       "      <td>...</td>\n",
       "      <td>...</td>\n",
       "      <td>...</td>\n",
       "      <td>...</td>\n",
       "    </tr>\n",
       "    <tr>\n",
       "      <th>209</th>\n",
       "      <td>40</td>\n",
       "      <td>male</td>\n",
       "      <td>41.64230</td>\n",
       "      <td>1</td>\n",
       "      <td>no</td>\n",
       "    </tr>\n",
       "    <tr>\n",
       "      <th>1036</th>\n",
       "      <td>22</td>\n",
       "      <td>male</td>\n",
       "      <td>37.44070</td>\n",
       "      <td>2</td>\n",
       "      <td>yes</td>\n",
       "    </tr>\n",
       "    <tr>\n",
       "      <th>1206</th>\n",
       "      <td>59</td>\n",
       "      <td>female</td>\n",
       "      <td>35.14800</td>\n",
       "      <td>2</td>\n",
       "      <td>no</td>\n",
       "    </tr>\n",
       "    <tr>\n",
       "      <th>878</th>\n",
       "      <td>41</td>\n",
       "      <td>male</td>\n",
       "      <td>29.08800</td>\n",
       "      <td>1</td>\n",
       "      <td>no</td>\n",
       "    </tr>\n",
       "    <tr>\n",
       "      <th>887</th>\n",
       "      <td>36</td>\n",
       "      <td>female</td>\n",
       "      <td>30.32020</td>\n",
       "      <td>0</td>\n",
       "      <td>no</td>\n",
       "    </tr>\n",
       "  </tbody>\n",
       "</table>\n",
       "<p>1271 rows × 5 columns</p>\n",
       "</div>"
      ],
      "text/plain": [
       "      age     sex       bmi  children smoker\n",
       "457    57  female  30.79995         0     no\n",
       "1050   44  female  37.32455         1     no\n",
       "56     58  female  32.14325         2     no\n",
       "311    19  female  24.94700         0     no\n",
       "1288   20    male  39.79400         2    yes\n",
       "...   ...     ...       ...       ...    ...\n",
       "209    40    male  41.64230         1     no\n",
       "1036   22    male  37.44070         2    yes\n",
       "1206   59  female  35.14800         2     no\n",
       "878    41    male  29.08800         1     no\n",
       "887    36  female  30.32020         0     no\n",
       "\n",
       "[1271 rows x 5 columns]"
      ]
     },
     "execution_count": 20,
     "metadata": {},
     "output_type": "execute_result"
    }
   ],
   "source": [
    "dataframe[input_cols]"
   ]
  },
  {
   "cell_type": "code",
   "execution_count": 21,
   "metadata": {},
   "outputs": [
    {
     "name": "stdout",
     "output_type": "stream",
     "text": [
      "           charges\n",
      "457   14327.337811\n",
      "1050   9707.993894\n",
      "56    16464.916187\n",
      "311    2102.224960\n",
      "1288  46396.924860\n",
      "...            ...\n",
      "209    7998.232737\n",
      "1036  45356.183653\n",
      "1206  44661.835716\n",
      "878    7601.504350\n",
      "887    6379.332718\n",
      "\n",
      "[1271 rows x 1 columns]\n",
      "<bound method DataFrame.to_numpy of            charges\n",
      "457   14327.337811\n",
      "1050   9707.993894\n",
      "56    16464.916187\n",
      "311    2102.224960\n",
      "1288  46396.924860\n",
      "...            ...\n",
      "209    7998.232737\n",
      "1036  45356.183653\n",
      "1206  44661.835716\n",
      "878    7601.504350\n",
      "887    6379.332718\n",
      "\n",
      "[1271 rows x 1 columns]>\n"
     ]
    }
   ],
   "source": [
    "# testing\n",
    "print(dataframe[output_cols])\n",
    "print(dataframe[output_cols].to_numpy)"
   ]
  },
  {
   "cell_type": "code",
   "execution_count": 22,
   "metadata": {},
   "outputs": [
    {
     "data": {
      "text/html": [
       "<div>\n",
       "<style scoped>\n",
       "    .dataframe tbody tr th:only-of-type {\n",
       "        vertical-align: middle;\n",
       "    }\n",
       "\n",
       "    .dataframe tbody tr th {\n",
       "        vertical-align: top;\n",
       "    }\n",
       "\n",
       "    .dataframe thead th {\n",
       "        text-align: right;\n",
       "    }\n",
       "</style>\n",
       "<table border=\"1\" class=\"dataframe\">\n",
       "  <thead>\n",
       "    <tr style=\"text-align: right;\">\n",
       "      <th></th>\n",
       "      <th>age</th>\n",
       "      <th>sex</th>\n",
       "      <th>bmi</th>\n",
       "      <th>children</th>\n",
       "      <th>smoker</th>\n",
       "      <th>charges</th>\n",
       "    </tr>\n",
       "  </thead>\n",
       "  <tbody>\n",
       "    <tr>\n",
       "      <th>457</th>\n",
       "      <td>57</td>\n",
       "      <td>female</td>\n",
       "      <td>30.79995</td>\n",
       "      <td>0</td>\n",
       "      <td>no</td>\n",
       "      <td>14327.337811</td>\n",
       "    </tr>\n",
       "    <tr>\n",
       "      <th>1050</th>\n",
       "      <td>44</td>\n",
       "      <td>female</td>\n",
       "      <td>37.32455</td>\n",
       "      <td>1</td>\n",
       "      <td>no</td>\n",
       "      <td>9707.993894</td>\n",
       "    </tr>\n",
       "    <tr>\n",
       "      <th>56</th>\n",
       "      <td>58</td>\n",
       "      <td>female</td>\n",
       "      <td>32.14325</td>\n",
       "      <td>2</td>\n",
       "      <td>no</td>\n",
       "      <td>16464.916187</td>\n",
       "    </tr>\n",
       "    <tr>\n",
       "      <th>311</th>\n",
       "      <td>19</td>\n",
       "      <td>female</td>\n",
       "      <td>24.94700</td>\n",
       "      <td>0</td>\n",
       "      <td>no</td>\n",
       "      <td>2102.224960</td>\n",
       "    </tr>\n",
       "    <tr>\n",
       "      <th>1288</th>\n",
       "      <td>20</td>\n",
       "      <td>male</td>\n",
       "      <td>39.79400</td>\n",
       "      <td>2</td>\n",
       "      <td>yes</td>\n",
       "      <td>46396.924860</td>\n",
       "    </tr>\n",
       "    <tr>\n",
       "      <th>...</th>\n",
       "      <td>...</td>\n",
       "      <td>...</td>\n",
       "      <td>...</td>\n",
       "      <td>...</td>\n",
       "      <td>...</td>\n",
       "      <td>...</td>\n",
       "    </tr>\n",
       "    <tr>\n",
       "      <th>209</th>\n",
       "      <td>40</td>\n",
       "      <td>male</td>\n",
       "      <td>41.64230</td>\n",
       "      <td>1</td>\n",
       "      <td>no</td>\n",
       "      <td>7998.232737</td>\n",
       "    </tr>\n",
       "    <tr>\n",
       "      <th>1036</th>\n",
       "      <td>22</td>\n",
       "      <td>male</td>\n",
       "      <td>37.44070</td>\n",
       "      <td>2</td>\n",
       "      <td>yes</td>\n",
       "      <td>45356.183653</td>\n",
       "    </tr>\n",
       "    <tr>\n",
       "      <th>1206</th>\n",
       "      <td>59</td>\n",
       "      <td>female</td>\n",
       "      <td>35.14800</td>\n",
       "      <td>2</td>\n",
       "      <td>no</td>\n",
       "      <td>44661.835716</td>\n",
       "    </tr>\n",
       "    <tr>\n",
       "      <th>878</th>\n",
       "      <td>41</td>\n",
       "      <td>male</td>\n",
       "      <td>29.08800</td>\n",
       "      <td>1</td>\n",
       "      <td>no</td>\n",
       "      <td>7601.504350</td>\n",
       "    </tr>\n",
       "    <tr>\n",
       "      <th>887</th>\n",
       "      <td>36</td>\n",
       "      <td>female</td>\n",
       "      <td>30.32020</td>\n",
       "      <td>0</td>\n",
       "      <td>no</td>\n",
       "      <td>6379.332718</td>\n",
       "    </tr>\n",
       "  </tbody>\n",
       "</table>\n",
       "<p>1271 rows × 6 columns</p>\n",
       "</div>"
      ],
      "text/plain": [
       "      age     sex       bmi  children smoker       charges\n",
       "457    57  female  30.79995         0     no  14327.337811\n",
       "1050   44  female  37.32455         1     no   9707.993894\n",
       "56     58  female  32.14325         2     no  16464.916187\n",
       "311    19  female  24.94700         0     no   2102.224960\n",
       "1288   20    male  39.79400         2    yes  46396.924860\n",
       "...   ...     ...       ...       ...    ...           ...\n",
       "209    40    male  41.64230         1     no   7998.232737\n",
       "1036   22    male  37.44070         2    yes  45356.183653\n",
       "1206   59  female  35.14800         2     no  44661.835716\n",
       "878    41    male  29.08800         1     no   7601.504350\n",
       "887    36  female  30.32020         0     no   6379.332718\n",
       "\n",
       "[1271 rows x 6 columns]"
      ]
     },
     "execution_count": 22,
     "metadata": {},
     "output_type": "execute_result"
    }
   ],
   "source": [
    "dataframe"
   ]
  },
  {
   "cell_type": "code",
   "execution_count": 23,
   "metadata": {},
   "outputs": [
    {
     "data": {
      "text/plain": [
       "(array([[57.     ,  0.     , 30.79995,  0.     ,  0.     ],\n",
       "        [44.     ,  0.     , 37.32455,  1.     ,  0.     ],\n",
       "        [58.     ,  0.     , 32.14325,  2.     ,  0.     ],\n",
       "        ...,\n",
       "        [59.     ,  0.     , 35.148  ,  2.     ,  0.     ],\n",
       "        [41.     ,  1.     , 29.088  ,  1.     ,  0.     ],\n",
       "        [36.     ,  0.     , 30.3202 ,  0.     ,  0.     ]]),\n",
       " array([[14327.3378105],\n",
       "        [ 9707.9938945],\n",
       "        [16464.9161875],\n",
       "        ...,\n",
       "        [44661.8357163],\n",
       "        [ 7601.50435  ],\n",
       "        [ 6379.332718 ]]))"
      ]
     },
     "execution_count": 23,
     "metadata": {},
     "output_type": "execute_result"
    }
   ],
   "source": [
    "# convert input_cols, output_cols(targets) into array\n",
    "inputs_array, targets_array = dataframe_to_arrays(dataframe)\n",
    "inputs_array, targets_array"
   ]
  },
  {
   "cell_type": "markdown",
   "metadata": {},
   "source": [
    "**Q: Convert the numpy arrays `inputs_array` and `targets_array` into PyTorch tensors. Make sure that the data type is `torch.float32`.**"
   ]
  },
  {
   "cell_type": "code",
   "execution_count": 24,
   "metadata": {},
   "outputs": [
    {
     "data": {
      "text/plain": [
       "(tensor([[57.0000,  0.0000, 30.7999,  0.0000,  0.0000],\n",
       "         [44.0000,  0.0000, 37.3246,  1.0000,  0.0000],\n",
       "         [58.0000,  0.0000, 32.1432,  2.0000,  0.0000],\n",
       "         ...,\n",
       "         [59.0000,  0.0000, 35.1480,  2.0000,  0.0000],\n",
       "         [41.0000,  1.0000, 29.0880,  1.0000,  0.0000],\n",
       "         [36.0000,  0.0000, 30.3202,  0.0000,  0.0000]]),\n",
       " tensor([[14327.3379],\n",
       "         [ 9707.9941],\n",
       "         [16464.9160],\n",
       "         ...,\n",
       "         [44661.8359],\n",
       "         [ 7601.5044],\n",
       "         [ 6379.3325]]))"
      ]
     },
     "execution_count": 24,
     "metadata": {},
     "output_type": "execute_result"
    }
   ],
   "source": [
    "inputs = torch.from_numpy(inputs_array).type(torch.float32)\n",
    "targets = torch.from_numpy(targets_array).type(torch.float32)\n",
    "inputs, targets"
   ]
  },
  {
   "cell_type": "code",
   "execution_count": 25,
   "metadata": {},
   "outputs": [
    {
     "data": {
      "text/plain": [
       "(torch.float32, torch.float32)"
      ]
     },
     "execution_count": 25,
     "metadata": {},
     "output_type": "execute_result"
    }
   ],
   "source": [
    "inputs.dtype, targets.dtype"
   ]
  },
  {
   "cell_type": "markdown",
   "metadata": {},
   "source": [
    "Next, we need to create PyTorch datasets & data loaders for training & validation. We'll start by creating a `TensorDataset`."
   ]
  },
  {
   "cell_type": "code",
   "execution_count": 26,
   "metadata": {},
   "outputs": [],
   "source": [
    "dataset = TensorDataset(inputs, targets)"
   ]
  },
  {
   "cell_type": "markdown",
   "metadata": {},
   "source": [
    "**Q: Pick a number between `0.1` and `0.2` to determine the fraction of data that will be used for creating the validation set. Then use `random_split` to create training & validation datasets.**"
   ]
  },
  {
   "cell_type": "code",
   "execution_count": 27,
   "metadata": {},
   "outputs": [],
   "source": [
    "val_percent = 0.1 # between 0.1 and 0.2\n",
    "val_size = int(num_rows * val_percent)\n",
    "train_size = num_rows - val_size\n",
    "\n",
    "\n",
    "train_ds, val_ds = random_split(dataset, [val_size, train_size]) # Use the random_split function to split dataset into 2 parts of the desired length"
   ]
  },
  {
   "cell_type": "markdown",
   "metadata": {},
   "source": [
    "Finally, we can create data loaders for training & validation.\n",
    "\n",
    "**Q: Pick a batch size for the data loader.**"
   ]
  },
  {
   "cell_type": "code",
   "execution_count": 28,
   "metadata": {},
   "outputs": [],
   "source": [
    "batch_size = 32"
   ]
  },
  {
   "cell_type": "code",
   "execution_count": 29,
   "metadata": {},
   "outputs": [],
   "source": [
    "train_loader = DataLoader(train_ds, batch_size, shuffle=True)\n",
    "val_loader = DataLoader(val_ds, batch_size)"
   ]
  },
  {
   "cell_type": "markdown",
   "metadata": {},
   "source": [
    "Let's look at a batch of data to verify everything is working fine so far."
   ]
  },
  {
   "cell_type": "code",
   "execution_count": 30,
   "metadata": {},
   "outputs": [
    {
     "name": "stdout",
     "output_type": "stream",
     "text": [
      "inputs: tensor([[22.0000,  0.0000, 24.5430,  0.0000,  0.0000],\n",
      "        [53.0000,  0.0000, 26.8660,  0.0000,  0.0000],\n",
      "        [57.0000,  1.0000, 40.6828,  0.0000,  0.0000],\n",
      "        [35.0000,  1.0000, 37.0367,  1.0000,  1.0000],\n",
      "        [32.0000,  0.0000, 30.0324,  0.0000,  0.0000],\n",
      "        [24.0000,  1.0000, 32.3301,  0.0000,  0.0000],\n",
      "        [44.0000,  1.0000, 30.9969,  2.0000,  0.0000],\n",
      "        [59.0000,  1.0000, 29.0728,  0.0000,  0.0000],\n",
      "        [28.0000,  1.0000, 24.5430,  5.0000,  0.0000],\n",
      "        [48.0000,  0.0000, 32.6230,  2.0000,  0.0000],\n",
      "        [25.0000,  0.0000, 27.0579,  2.0000,  0.0000],\n",
      "        [39.0000,  1.0000, 28.5830,  1.0000,  1.0000],\n",
      "        [24.0000,  1.0000, 27.0579,  1.0000,  0.0000],\n",
      "        [50.0000,  1.0000, 26.6741,  0.0000,  0.0000],\n",
      "        [56.0000,  1.0000, 36.4610,  3.0000,  0.0000],\n",
      "        [41.0000,  1.0000, 37.4205,  2.0000,  0.0000],\n",
      "        [47.0000,  0.0000, 34.2542,  3.0000,  0.0000],\n",
      "        [53.0000,  0.0000, 23.9875,  2.0000,  0.0000],\n",
      "        [22.0000,  0.0000, 30.7040,  0.0000,  0.0000],\n",
      "        [55.0000,  0.0000, 35.5520,  0.0000,  1.0000],\n",
      "        [49.0000,  0.0000, 32.2190,  5.0000,  0.0000],\n",
      "        [55.0000,  0.0000, 29.9970,  2.0000,  0.0000],\n",
      "        [41.0000,  1.0000, 28.6891,  1.0000,  0.0000],\n",
      "        [36.0000,  1.0000, 35.5520,  1.0000,  1.0000],\n",
      "        [30.0000,  1.0000, 38.1780,  2.0000,  1.0000],\n",
      "        [49.0000,  0.0000, 30.2243,  0.0000,  0.0000],\n",
      "        [48.0000,  0.0000, 26.1085,  3.0000,  1.0000],\n",
      "        [22.0000,  0.0000, 40.2030,  0.0000,  0.0000],\n",
      "        [38.0000,  1.0000, 31.3100,  1.0000,  0.0000],\n",
      "        [34.0000,  1.0000, 42.5513,  2.0000,  0.0000],\n",
      "        [23.0000,  0.0000, 35.2136,  0.0000,  0.0000],\n",
      "        [53.0000,  1.0000, 21.1090,  0.0000,  1.0000]])\n",
      "targets: tensor([[ 2602.0674],\n",
      "        [12530.3252],\n",
      "        [25057.9141],\n",
      "        [48126.8750],\n",
      "        [ 5272.0229],\n",
      "        [ 2397.7141],\n",
      "        [ 9355.0264],\n",
      "        [14676.8330],\n",
      "        [ 6794.5967],\n",
      "        [12152.3311],\n",
      "        [ 5068.8267],\n",
      "        [25509.4141],\n",
      "        [15257.9629],\n",
      "        [10680.9238],\n",
      "        [14959.8916],\n",
      "        [ 8791.5000],\n",
      "        [12239.1611],\n",
      "        [14192.9121],\n",
      "        [ 3317.7571],\n",
      "        [53752.8008],\n",
      "        [13979.0137],\n",
      "        [14376.4434],\n",
      "        [ 8064.2700],\n",
      "        [46838.1016],\n",
      "        [47482.1445],\n",
      "        [10875.6719],\n",
      "        [29258.9297],\n",
      "        [ 3333.5754],\n",
      "        [ 6640.7969],\n",
      "        [ 6200.2686],\n",
      "        [ 3508.3821],\n",
      "        [25646.9395]])\n"
     ]
    }
   ],
   "source": [
    "for xb, yb in train_loader:\n",
    "    print(\"inputs:\", xb)\n",
    "    print(\"targets:\", yb)\n",
    "    break"
   ]
  },
  {
   "cell_type": "markdown",
   "metadata": {},
   "source": [
    "Let's save our work by committing to Jovian."
   ]
  },
  {
   "cell_type": "code",
   "execution_count": 31,
   "metadata": {},
   "outputs": [
    {
     "data": {
      "application/javascript": [
       "window.require && require([\"base/js/namespace\"],function(Jupyter){Jupyter.notebook.save_checkpoint()})"
      ],
      "text/plain": [
       "<IPython.core.display.Javascript object>"
      ]
     },
     "metadata": {},
     "output_type": "display_data"
    },
    {
     "name": "stdout",
     "output_type": "stream",
     "text": [
      "[jovian] Attempting to save notebook..\u001b[0m\n",
      "[jovian] Updating notebook \"mesugareymondrobin/02-insurance-linear-regression\" on https://jovian.ai/\u001b[0m\n",
      "[jovian] Uploading notebook..\u001b[0m\n",
      "[jovian] Committed successfully! https://jovian.ai/mesugareymondrobin/02-insurance-linear-regression\u001b[0m\n"
     ]
    },
    {
     "data": {
      "text/plain": [
       "'https://jovian.ai/mesugareymondrobin/02-insurance-linear-regression'"
      ]
     },
     "execution_count": 31,
     "metadata": {},
     "output_type": "execute_result"
    }
   ],
   "source": [
    "jovian.commit(project=project_name, environment=None)"
   ]
  },
  {
   "cell_type": "markdown",
   "metadata": {},
   "source": [
    "## Step 3: Create a Linear Regression Model\n",
    "\n",
    "Our model itself is a fairly straightforward linear regression (we'll build more complex models in the next assignment). \n"
   ]
  },
  {
   "cell_type": "code",
   "execution_count": 32,
   "metadata": {},
   "outputs": [],
   "source": [
    "input_size = len(input_cols)\n",
    "output_size = len(output_cols)"
   ]
  },
  {
   "cell_type": "markdown",
   "metadata": {},
   "source": [
    "**Q: Complete the class definition below by filling out the constructor (`__init__`), `forward`, `training_step` and `validation_step` methods.**\n",
    "\n",
    "Hint: Think carefully about picking a good loss fuction (it's not cross entropy). Maybe try 2-3 of them and see which one works best. See https://pytorch.org/docs/stable/nn.functional.html#loss-functions"
   ]
  },
  {
   "cell_type": "code",
   "execution_count": 33,
   "metadata": {},
   "outputs": [],
   "source": [
    "class InsuranceModel(nn.Module):\n",
    "    def __init__(self):\n",
    "        super().__init__()\n",
    "        self.linear = nn.Linear(input_size, output_size)                  # fill this (hint: use input_size & output_size defined above)\n",
    "        \n",
    "    def forward(self, xb):\n",
    "        out = self.linear(xb)                          # fill this\n",
    "        return out\n",
    "    \n",
    "    def training_step(self, batch):\n",
    "        inputs, targets = batch \n",
    "        # Generate predictions\n",
    "        out = self(inputs)          \n",
    "        # Calcuate loss\n",
    "        loss = F.l1_loss(out,targets)                          # fill this\n",
    "        return loss\n",
    "    \n",
    "    def validation_step(self, batch):\n",
    "        inputs, targets = batch\n",
    "        # Generate predictions\n",
    "        out = self(inputs)\n",
    "        # Calculate loss\n",
    "        loss = F.l1_loss(out, targets)                           # fill this    \n",
    "        return {'val_loss': loss.detach()}\n",
    "        \n",
    "    def validation_epoch_end(self, outputs):\n",
    "        batch_losses = [x['val_loss'] for x in outputs]\n",
    "        epoch_loss = torch.stack(batch_losses).mean()   # Combine losses\n",
    "        return {'val_loss': epoch_loss.item()}\n",
    "    \n",
    "    def epoch_end(self, epoch, result, num_epochs):\n",
    "        # Print result every 20th epoch\n",
    "        if (epoch+1) % 20 == 0 or epoch == num_epochs-1:\n",
    "            print(\"Epoch [{}], val_loss: {:.4f}\".format(epoch+1, result['val_loss']))"
   ]
  },
  {
   "cell_type": "markdown",
   "metadata": {},
   "source": [
    "Let us create a model using the `InsuranceModel` class. You may need to come back later and re-run the next cell to reinitialize the model, in case the loss becomes `nan` or `infinity`."
   ]
  },
  {
   "cell_type": "code",
   "execution_count": 34,
   "metadata": {},
   "outputs": [],
   "source": [
    "model = InsuranceModel()"
   ]
  },
  {
   "cell_type": "markdown",
   "metadata": {},
   "source": [
    "Let's check out the weights and biases of the model using `model.parameters`."
   ]
  },
  {
   "cell_type": "code",
   "execution_count": 35,
   "metadata": {},
   "outputs": [
    {
     "data": {
      "text/plain": [
       "[Parameter containing:\n",
       " tensor([[ 0.1573,  0.2952, -0.0370, -0.4215, -0.3198]], requires_grad=True),\n",
       " Parameter containing:\n",
       " tensor([0.4097], requires_grad=True)]"
      ]
     },
     "execution_count": 35,
     "metadata": {},
     "output_type": "execute_result"
    }
   ],
   "source": [
    "list(model.parameters())"
   ]
  },
  {
   "cell_type": "markdown",
   "metadata": {},
   "source": [
    "One final commit before we train the model."
   ]
  },
  {
   "cell_type": "code",
   "execution_count": 36,
   "metadata": {},
   "outputs": [
    {
     "data": {
      "application/javascript": [
       "window.require && require([\"base/js/namespace\"],function(Jupyter){Jupyter.notebook.save_checkpoint()})"
      ],
      "text/plain": [
       "<IPython.core.display.Javascript object>"
      ]
     },
     "metadata": {},
     "output_type": "display_data"
    },
    {
     "name": "stdout",
     "output_type": "stream",
     "text": [
      "[jovian] Attempting to save notebook..\u001b[0m\n",
      "[jovian] Updating notebook \"mesugareymondrobin/02-insurance-linear-regression\" on https://jovian.ai/\u001b[0m\n",
      "[jovian] Uploading notebook..\u001b[0m\n",
      "[jovian] Committed successfully! https://jovian.ai/mesugareymondrobin/02-insurance-linear-regression\u001b[0m\n"
     ]
    },
    {
     "data": {
      "text/plain": [
       "'https://jovian.ai/mesugareymondrobin/02-insurance-linear-regression'"
      ]
     },
     "execution_count": 36,
     "metadata": {},
     "output_type": "execute_result"
    }
   ],
   "source": [
    "jovian.commit(project=project_name, environment=None)"
   ]
  },
  {
   "cell_type": "markdown",
   "metadata": {},
   "source": [
    "## Step 4: Train the model to fit the data\n",
    "\n",
    "To train our model, we'll use the same `fit` function explained in the lecture. That's the benefit of defining a generic training loop - you can use it for any problem."
   ]
  },
  {
   "cell_type": "code",
   "execution_count": 37,
   "metadata": {},
   "outputs": [],
   "source": [
    "def evaluate(model, val_loader):\n",
    "    outputs = [model.validation_step(batch) for batch in val_loader]\n",
    "    return model.validation_epoch_end(outputs)\n",
    "\n",
    "def fit(epochs, lr, model, train_loader, val_loader, opt_func=torch.optim.SGD):\n",
    "    history = []\n",
    "    optimizer = opt_func(model.parameters(), lr)\n",
    "    for epoch in range(epochs):\n",
    "        # Training Phase \n",
    "        for batch in train_loader:\n",
    "            loss = model.training_step(batch)\n",
    "            loss.backward()\n",
    "            optimizer.step()\n",
    "            optimizer.zero_grad()\n",
    "        # Validation phase\n",
    "        result = evaluate(model, val_loader)\n",
    "        model.epoch_end(epoch, result, epochs)\n",
    "        history.append(result)\n",
    "    return history"
   ]
  },
  {
   "cell_type": "markdown",
   "metadata": {},
   "source": [
    "**Q: Use the `evaluate` function to calculate the loss on the validation set before training.**"
   ]
  },
  {
   "cell_type": "code",
   "execution_count": 38,
   "metadata": {},
   "outputs": [
    {
     "name": "stdout",
     "output_type": "stream",
     "text": [
      "{'val_loss': 15723.21484375}\n"
     ]
    }
   ],
   "source": [
    "result = evaluate(model, val_loader) # Use the the evaluate function\n",
    "print(result)"
   ]
  },
  {
   "cell_type": "markdown",
   "metadata": {},
   "source": [
    "\n",
    "We are now ready to train the model. You may need to run the training loop many times, for different number of epochs and with different learning rates, to get a good result. Also, if your loss becomes too large (or `nan`), you may have to re-initialize the model by running the cell `model = InsuranceModel()`. Experiment with this for a while, and try to get to as low a loss as possible."
   ]
  },
  {
   "cell_type": "markdown",
   "metadata": {},
   "source": [
    "**Q: Train the model 4-5 times with different learning rates & for different number of epochs.**\n",
    "\n",
    "Hint: Vary learning rates by orders of 10 (e.g. `1e-2`, `1e-3`, `1e-4`, `1e-5`, `1e-6`) to figure out what works."
   ]
  },
  {
   "cell_type": "code",
   "execution_count": 39,
   "metadata": {},
   "outputs": [
    {
     "name": "stdout",
     "output_type": "stream",
     "text": [
      "Epoch [20], val_loss: 8564.7197\n",
      "Epoch [40], val_loss: 8469.5928\n",
      "Epoch [60], val_loss: 8377.1025\n",
      "Epoch [80], val_loss: 8292.8994\n",
      "Epoch [100], val_loss: 8210.1211\n",
      "Epoch [120], val_loss: 8128.0503\n",
      "Epoch [140], val_loss: 8072.4619\n",
      "Epoch [160], val_loss: 8040.5513\n",
      "Epoch [180], val_loss: 8019.2871\n",
      "Epoch [200], val_loss: 7981.4541\n",
      "Epoch [220], val_loss: 7957.8125\n",
      "Epoch [240], val_loss: 7948.5957\n",
      "Epoch [260], val_loss: 7943.2212\n",
      "Epoch [280], val_loss: 7938.5815\n",
      "Epoch [300], val_loss: 7934.8506\n",
      "Epoch [320], val_loss: 7932.8506\n",
      "Epoch [340], val_loss: 7932.5312\n",
      "Epoch [360], val_loss: 7931.2100\n",
      "Epoch [380], val_loss: 7928.8906\n",
      "Epoch [400], val_loss: 7928.7500\n",
      "Epoch [420], val_loss: 7927.6318\n",
      "Epoch [440], val_loss: 7925.8325\n",
      "Epoch [460], val_loss: 7924.3950\n",
      "Epoch [480], val_loss: 7924.6309\n",
      "Epoch [500], val_loss: 7923.5781\n",
      "Epoch [520], val_loss: 7922.0723\n",
      "Epoch [540], val_loss: 7921.4746\n",
      "Epoch [560], val_loss: 7920.8169\n",
      "Epoch [580], val_loss: 7918.8340\n",
      "Epoch [600], val_loss: 7918.3848\n",
      "Epoch [620], val_loss: 7918.1113\n",
      "Epoch [640], val_loss: 7915.2710\n",
      "Epoch [660], val_loss: 7916.3101\n",
      "Epoch [680], val_loss: 7914.4062\n",
      "Epoch [700], val_loss: 7913.4619\n",
      "Epoch [720], val_loss: 7913.1416\n",
      "Epoch [740], val_loss: 7912.5098\n",
      "Epoch [760], val_loss: 7911.5835\n",
      "Epoch [780], val_loss: 7910.2432\n",
      "Epoch [800], val_loss: 7909.9966\n",
      "Epoch [820], val_loss: 7909.0381\n",
      "Epoch [840], val_loss: 7907.6631\n",
      "Epoch [860], val_loss: 7908.0737\n",
      "Epoch [880], val_loss: 7906.7065\n",
      "Epoch [900], val_loss: 7905.7075\n",
      "Epoch [920], val_loss: 7904.3535\n",
      "Epoch [940], val_loss: 7903.8628\n",
      "Epoch [960], val_loss: 7902.2363\n",
      "Epoch [980], val_loss: 7901.7778\n",
      "Epoch [1000], val_loss: 7900.8960\n"
     ]
    }
   ],
   "source": [
    "epochs = 1000\n",
    "lr = 1e-1\n",
    "history1 = fit(epochs, lr, model, train_loader, val_loader)"
   ]
  },
  {
   "cell_type": "code",
   "execution_count": 40,
   "metadata": {},
   "outputs": [
    {
     "name": "stdout",
     "output_type": "stream",
     "text": [
      "Epoch [20], val_loss: 7901.2925\n",
      "Epoch [40], val_loss: 7901.1875\n",
      "Epoch [60], val_loss: 7901.0918\n",
      "Epoch [80], val_loss: 7900.9741\n",
      "Epoch [100], val_loss: 7900.8828\n",
      "Epoch [120], val_loss: 7900.8516\n",
      "Epoch [140], val_loss: 7900.7676\n",
      "Epoch [160], val_loss: 7900.6777\n",
      "Epoch [180], val_loss: 7900.5747\n",
      "Epoch [200], val_loss: 7900.5225\n"
     ]
    }
   ],
   "source": [
    "epochs = 200\n",
    "lr = 1e-2\n",
    "history2 = fit(epochs, lr, model, train_loader, val_loader)"
   ]
  },
  {
   "cell_type": "code",
   "execution_count": 41,
   "metadata": {},
   "outputs": [
    {
     "name": "stdout",
     "output_type": "stream",
     "text": [
      "Epoch [20], val_loss: 7900.5210\n",
      "Epoch [40], val_loss: 7900.5088\n",
      "Epoch [60], val_loss: 7900.5034\n",
      "Epoch [80], val_loss: 7900.4946\n",
      "Epoch [100], val_loss: 7900.4897\n",
      "Epoch [120], val_loss: 7900.4766\n",
      "Epoch [140], val_loss: 7900.4668\n",
      "Epoch [160], val_loss: 7900.4590\n",
      "Epoch [180], val_loss: 7900.4585\n",
      "Epoch [200], val_loss: 7900.4473\n",
      "Epoch [220], val_loss: 7900.4341\n",
      "Epoch [240], val_loss: 7900.4253\n",
      "Epoch [260], val_loss: 7900.4121\n",
      "Epoch [280], val_loss: 7900.4116\n",
      "Epoch [300], val_loss: 7900.4185\n",
      "Epoch [320], val_loss: 7900.3906\n",
      "Epoch [340], val_loss: 7900.3730\n",
      "Epoch [360], val_loss: 7900.3784\n",
      "Epoch [380], val_loss: 7900.3647\n",
      "Epoch [400], val_loss: 7900.3662\n",
      "Epoch [420], val_loss: 7900.3560\n",
      "Epoch [440], val_loss: 7900.3428\n",
      "Epoch [460], val_loss: 7900.3384\n",
      "Epoch [480], val_loss: 7900.3281\n",
      "Epoch [500], val_loss: 7900.3184\n"
     ]
    }
   ],
   "source": [
    "epochs = 500\n",
    "lr = 1e-3\n",
    "history3 = fit(epochs, lr, model, train_loader, val_loader)"
   ]
  },
  {
   "cell_type": "code",
   "execution_count": 42,
   "metadata": {},
   "outputs": [
    {
     "name": "stdout",
     "output_type": "stream",
     "text": [
      "Epoch [20], val_loss: 7900.3228\n",
      "Epoch [40], val_loss: 7900.3228\n",
      "Epoch [60], val_loss: 7900.3223\n",
      "Epoch [80], val_loss: 7900.3203\n",
      "Epoch [100], val_loss: 7900.3193\n",
      "Epoch [120], val_loss: 7900.3179\n",
      "Epoch [140], val_loss: 7900.3179\n",
      "Epoch [160], val_loss: 7900.3179\n",
      "Epoch [180], val_loss: 7900.3149\n",
      "Epoch [200], val_loss: 7900.3145\n",
      "Epoch [220], val_loss: 7900.3135\n",
      "Epoch [240], val_loss: 7900.3125\n",
      "Epoch [260], val_loss: 7900.3125\n",
      "Epoch [280], val_loss: 7900.3105\n",
      "Epoch [300], val_loss: 7900.3105\n",
      "Epoch [320], val_loss: 7900.3101\n",
      "Epoch [340], val_loss: 7900.3091\n",
      "Epoch [360], val_loss: 7900.3091\n",
      "Epoch [380], val_loss: 7900.3081\n",
      "Epoch [400], val_loss: 7900.3057\n",
      "Epoch [420], val_loss: 7900.3066\n",
      "Epoch [440], val_loss: 7900.3057\n",
      "Epoch [460], val_loss: 7900.3027\n",
      "Epoch [480], val_loss: 7900.3037\n",
      "Epoch [500], val_loss: 7900.3022\n",
      "Epoch [520], val_loss: 7900.3013\n",
      "Epoch [540], val_loss: 7900.3013\n",
      "Epoch [560], val_loss: 7900.2993\n",
      "Epoch [580], val_loss: 7900.2993\n",
      "Epoch [600], val_loss: 7900.2988\n",
      "Epoch [620], val_loss: 7900.2979\n",
      "Epoch [640], val_loss: 7900.2969\n",
      "Epoch [660], val_loss: 7900.2959\n",
      "Epoch [680], val_loss: 7900.2959\n",
      "Epoch [700], val_loss: 7900.2944\n",
      "Epoch [720], val_loss: 7900.2944\n",
      "Epoch [740], val_loss: 7900.2925\n",
      "Epoch [760], val_loss: 7900.2910\n",
      "Epoch [780], val_loss: 7900.2915\n",
      "Epoch [800], val_loss: 7900.2900\n",
      "Epoch [820], val_loss: 7900.2900\n",
      "Epoch [840], val_loss: 7900.2881\n",
      "Epoch [860], val_loss: 7900.2881\n",
      "Epoch [880], val_loss: 7900.2871\n",
      "Epoch [900], val_loss: 7900.2856\n",
      "Epoch [920], val_loss: 7900.2847\n",
      "Epoch [940], val_loss: 7900.2832\n",
      "Epoch [960], val_loss: 7900.2837\n",
      "Epoch [980], val_loss: 7900.2832\n",
      "Epoch [1000], val_loss: 7900.2832\n"
     ]
    }
   ],
   "source": [
    "epochs = 1000\n",
    "lr = 1e-4\n",
    "history4 = fit(epochs, lr, model, train_loader, val_loader)"
   ]
  },
  {
   "cell_type": "code",
   "execution_count": 43,
   "metadata": {},
   "outputs": [
    {
     "name": "stdout",
     "output_type": "stream",
     "text": [
      "Epoch [20], val_loss: 7900.2832\n",
      "Epoch [40], val_loss: 7900.2832\n",
      "Epoch [60], val_loss: 7900.2822\n",
      "Epoch [80], val_loss: 7900.2832\n",
      "Epoch [100], val_loss: 7900.2822\n",
      "Epoch [120], val_loss: 7900.2822\n",
      "Epoch [140], val_loss: 7900.2822\n",
      "Epoch [160], val_loss: 7900.2822\n",
      "Epoch [180], val_loss: 7900.2832\n",
      "Epoch [200], val_loss: 7900.2832\n",
      "Epoch [220], val_loss: 7900.2832\n",
      "Epoch [240], val_loss: 7900.2832\n",
      "Epoch [260], val_loss: 7900.2822\n",
      "Epoch [280], val_loss: 7900.2822\n",
      "Epoch [300], val_loss: 7900.2822\n",
      "Epoch [320], val_loss: 7900.2822\n",
      "Epoch [340], val_loss: 7900.2822\n",
      "Epoch [360], val_loss: 7900.2822\n",
      "Epoch [380], val_loss: 7900.2822\n",
      "Epoch [400], val_loss: 7900.2812\n",
      "Epoch [420], val_loss: 7900.2812\n",
      "Epoch [440], val_loss: 7900.2822\n",
      "Epoch [460], val_loss: 7900.2822\n",
      "Epoch [480], val_loss: 7900.2822\n",
      "Epoch [500], val_loss: 7900.2822\n",
      "Epoch [520], val_loss: 7900.2812\n",
      "Epoch [540], val_loss: 7900.2812\n",
      "Epoch [560], val_loss: 7900.2812\n",
      "Epoch [580], val_loss: 7900.2822\n",
      "Epoch [600], val_loss: 7900.2822\n",
      "Epoch [620], val_loss: 7900.2822\n",
      "Epoch [640], val_loss: 7900.2832\n",
      "Epoch [660], val_loss: 7900.2832\n",
      "Epoch [680], val_loss: 7900.2832\n",
      "Epoch [700], val_loss: 7900.2832\n",
      "Epoch [720], val_loss: 7900.2832\n",
      "Epoch [740], val_loss: 7900.2822\n",
      "Epoch [760], val_loss: 7900.2832\n",
      "Epoch [780], val_loss: 7900.2832\n",
      "Epoch [800], val_loss: 7900.2832\n",
      "Epoch [820], val_loss: 7900.2832\n",
      "Epoch [840], val_loss: 7900.2832\n",
      "Epoch [860], val_loss: 7900.2832\n",
      "Epoch [880], val_loss: 7900.2832\n",
      "Epoch [900], val_loss: 7900.2832\n",
      "Epoch [920], val_loss: 7900.2832\n",
      "Epoch [940], val_loss: 7900.2832\n",
      "Epoch [960], val_loss: 7900.2822\n",
      "Epoch [980], val_loss: 7900.2832\n",
      "Epoch [1000], val_loss: 7900.2832\n"
     ]
    }
   ],
   "source": [
    "epochs = 1000\n",
    "lr = 1e-6\n",
    "history5 = fit(epochs, lr, model, train_loader, val_loader)"
   ]
  },
  {
   "cell_type": "code",
   "execution_count": 44,
   "metadata": {},
   "outputs": [
    {
     "data": {
      "text/plain": [
       "[<matplotlib.lines.Line2D at 0x7fb1335e50d0>]"
      ]
     },
     "execution_count": 44,
     "metadata": {},
     "output_type": "execute_result"
    },
    {
     "data": {
      "image/png": "[encoded data removed]",
      "text/plain": [
       "<Figure size 432x288 with 1 Axes>"
      ]
     },
     "metadata": {
      "needs_background": "light"
     },
     "output_type": "display_data"
    }
   ],
   "source": [
    "loss = []\n",
    "for values in history1:\n",
    "    loss.append(values[\"val_loss\"])\n",
    "plt.plot(loss)"
   ]
  },
  {
   "cell_type": "markdown",
   "metadata": {},
   "source": [
    "**Q: What is the final validation loss of your model?**"
   ]
  },
  {
   "cell_type": "code",
   "execution_count": 45,
   "metadata": {},
   "outputs": [],
   "source": [
    "val_loss = 7908.4697265625"
   ]
  },
  {
   "cell_type": "markdown",
   "metadata": {},
   "source": [
    "Let's log the final validation loss to Jovian and commit the notebook"
   ]
  },
  {
   "cell_type": "code",
   "execution_count": 46,
   "metadata": {},
   "outputs": [
    {
     "name": "stdout",
     "output_type": "stream",
     "text": [
      "[jovian] Metrics logged.\u001b[0m\n"
     ]
    }
   ],
   "source": [
    "jovian.log_metrics(val_loss=val_loss)"
   ]
  },
  {
   "cell_type": "code",
   "execution_count": 47,
   "metadata": {},
   "outputs": [
    {
     "data": {
      "application/javascript": [
       "window.require && require([\"base/js/namespace\"],function(Jupyter){Jupyter.notebook.save_checkpoint()})"
      ],
      "text/plain": [
       "<IPython.core.display.Javascript object>"
      ]
     },
     "metadata": {},
     "output_type": "display_data"
    },
    {
     "name": "stdout",
     "output_type": "stream",
     "text": [
      "[jovian] Attempting to save notebook..\u001b[0m\n",
      "[jovian] Updating notebook \"mesugareymondrobin/02-insurance-linear-regression\" on https://jovian.ai/\u001b[0m\n",
      "[jovian] Uploading notebook..\u001b[0m\n",
      "[jovian] Attaching records (metrics, hyperparameters, dataset etc.)\u001b[0m\n",
      "[jovian] Committed successfully! https://jovian.ai/mesugareymondrobin/02-insurance-linear-regression\u001b[0m\n"
     ]
    },
    {
     "data": {
      "text/plain": [
       "'https://jovian.ai/mesugareymondrobin/02-insurance-linear-regression'"
      ]
     },
     "execution_count": 47,
     "metadata": {},
     "output_type": "execute_result"
    }
   ],
   "source": [
    "jovian.commit(project=project_name, environment=None)"
   ]
  },
  {
   "cell_type": "markdown",
   "metadata": {},
   "source": [
    "Now scroll back up, re-initialize the model, and try different set of values for batch size, number of epochs, learning rate etc. Commit each experiment and use the \"Compare\" and \"View Diff\" options on Jovian to compare the different results."
   ]
  },
  {
   "cell_type": "markdown",
   "metadata": {},
   "source": [
    "## Step 5: Make predictions using the trained model\n",
    "\n",
    "**Q: Complete the following function definition to make predictions on a single input**"
   ]
  },
  {
   "cell_type": "code",
   "execution_count": 48,
   "metadata": {},
   "outputs": [],
   "source": [
    "def predict_single(input, target, model):\n",
    "    inputs = input.unsqueeze(0)\n",
    "    predictions = model(inputs)                # fill this\n",
    "    prediction = predictions[0].detach()\n",
    "    print(\"Input:\", input)\n",
    "    print(\"Target:\", target)\n",
    "    print(\"Prediction:\", prediction)"
   ]
  },
  {
   "cell_type": "code",
   "execution_count": 49,
   "metadata": {},
   "outputs": [
    {
     "name": "stdout",
     "output_type": "stream",
     "text": [
      "Input: tensor([45.0000,  0.0000, 32.1079,  0.0000,  0.0000])\n",
      "Target: tensor([21694.4570])\n",
      "Prediction: tensor([10743.9277])\n"
     ]
    }
   ],
   "source": [
    "input, target = val_ds[0]\n",
    "predict_single(input, target, model)"
   ]
  },
  {
   "cell_type": "code",
   "execution_count": 50,
   "metadata": {},
   "outputs": [
    {
     "name": "stdout",
     "output_type": "stream",
     "text": [
      "Input: tensor([35.0000,  0.0000, 34.5521,  1.0000,  0.0000])\n",
      "Target: tensor([6346.7246])\n",
      "Prediction: tensor([7579.9248])\n"
     ]
    }
   ],
   "source": [
    "input, target = val_ds[10]\n",
    "predict_single(input, target, model)"
   ]
  },
  {
   "cell_type": "code",
   "execution_count": 51,
   "metadata": {},
   "outputs": [
    {
     "name": "stdout",
     "output_type": "stream",
     "text": [
      "Input: tensor([21.0000,  0.0000, 16.9832,  1.0000,  0.0000])\n",
      "Target: tensor([3832.6216])\n",
      "Prediction: tensor([4925.6753])\n"
     ]
    }
   ],
   "source": [
    "input, target = val_ds[23]\n",
    "predict_single(input, target, model)"
   ]
  },
  {
   "cell_type": "markdown",
   "metadata": {},
   "source": [
    "Are you happy with your model's predictions? Try to improve them further."
   ]
  },
  {
   "cell_type": "markdown",
   "metadata": {},
   "source": [
    "## (Optional) Step 6: Try another dataset & blog about it\n",
    "\n",
    "While this last step is optional for the submission of your assignment, we highly recommend that you do it. Try to replicate this notebook for a different linear regression or logistic regression problem. This will help solidify your understanding, and give you a chance to differentiate the generic patterns in machine learning from problem-specific details.You can use one of these starer notebooks (just change the dataset):\n",
    "\n",
    "- Linear regression (minimal): https://jovian.ai/aakashns/housing-linear-minimal\n",
    "- Logistic regression (minimal): https://jovian.ai/aakashns/mnist-logistic-minimal\n",
    "\n",
    "Here are some sources to find good datasets:\n",
    "\n",
    "- https://lionbridge.ai/datasets/10-open-datasets-for-linear-regression/\n",
    "- https://www.kaggle.com/rtatman/datasets-for-regression-analysis\n",
    "- https://archive.ics.uci.edu/ml/datasets.php?format=&task=reg&att=&area=&numAtt=&numIns=&type=&sort=nameUp&view=table\n",
    "- https://people.sc.fsu.edu/~jburkardt/datasets/regression/regression.html\n",
    "- https://archive.ics.uci.edu/ml/datasets/wine+quality\n",
    "- https://pytorch.org/docs/stable/torchvision/datasets.html\n",
    "\n",
    "We also recommend that you write a blog about your approach to the problem. Here is a suggested structure for your post (feel free to experiment with it):\n",
    "\n",
    "- Interesting title & subtitle\n",
    "- Overview of what the blog covers (which dataset, linear regression or logistic regression, intro to PyTorch)\n",
    "- Downloading & exploring the data\n",
    "- Preparing the data for training\n",
    "- Creating a model using PyTorch\n",
    "- Training the model to fit the data\n",
    "- Your thoughts on how to experiment with different hyperparmeters to reduce loss\n",
    "- Making predictions using the model\n",
    "\n",
    "As with the previous assignment, you can [embed Juptyer notebook cells & outputs from Jovian](https://medium.com/jovianml/share-and-embed-jupyter-notebooks-online-with-jovian-ml-df709a03064e) into your blog. \n",
    "\n",
    "Don't forget to share your work on the forum: https://jovian.ai/forum/t/linear-regression-and-logistic-regression-notebooks-and-blog-posts/14039"
   ]
  },
  {
   "cell_type": "code",
   "execution_count": 52,
   "metadata": {},
   "outputs": [
    {
     "data": {
      "application/javascript": [
       "window.require && require([\"base/js/namespace\"],function(Jupyter){Jupyter.notebook.save_checkpoint()})"
      ],
      "text/plain": [
       "<IPython.core.display.Javascript object>"
      ]
     },
     "metadata": {},
     "output_type": "display_data"
    },
    {
     "name": "stdout",
     "output_type": "stream",
     "text": [
      "[jovian] Attempting to save notebook..\u001b[0m\n",
      "[jovian] Updating notebook \"mesugareymondrobin/02-insurance-linear-regression\" on https://jovian.ai/\u001b[0m\n",
      "[jovian] Uploading notebook..\u001b[0m\n",
      "[jovian] Attaching records (metrics, hyperparameters, dataset etc.)\u001b[0m\n",
      "[jovian] Committed successfully! https://jovian.ai/mesugareymondrobin/02-insurance-linear-regression\u001b[0m\n"
     ]
    },
    {
     "data": {
      "application/javascript": [
       "window.require && require([\"base/js/namespace\"],function(Jupyter){Jupyter.notebook.save_checkpoint()})"
      ],
      "text/plain": [
       "<IPython.core.display.Javascript object>"
      ]
     },
     "metadata": {},
     "output_type": "display_data"
    },
    {
     "name": "stdout",
     "output_type": "stream",
     "text": [
      "[jovian] Attempting to save notebook..\u001b[0m\n",
      "[jovian] Updating notebook \"mesugareymondrobin/02-insurance-linear-regression\" on https://jovian.ai/\u001b[0m\n",
      "[jovian] Uploading notebook..\u001b[0m\n",
      "[jovian] Attaching records (metrics, hyperparameters, dataset etc.)\u001b[0m\n",
      "[jovian] Committed successfully! https://jovian.ai/mesugareymondrobin/02-insurance-linear-regression\u001b[0m\n"
     ]
    },
    {
     "data": {
      "text/plain": [
       "'https://jovian.ai/mesugareymondrobin/02-insurance-linear-regression'"
      ]
     },
     "execution_count": 52,
     "metadata": {},
     "output_type": "execute_result"
    }
   ],
   "source": [
    "jovian.commit(project=project_name, environment=None)\n",
    "jovian.commit(project=project_name, environment=None) # try again, kaggle fails sometimes"
   ]
  },
  {
   "cell_type": "code",
   "execution_count": null,
   "metadata": {},
   "outputs": [],
   "source": []
  },
  {
   "cell_type": "code",
   "execution_count": null,
   "metadata": {},
   "outputs": [],
   "source": []
  },
  {
   "cell_type": "code",
   "execution_count": null,
   "metadata": {},
   "outputs": [],
   "source": []
  }
 ],
 "metadata": {
  "kernelspec": {
   "display_name": "Python 3",
   "language": "python",
   "name": "python3"
  },
  "language_info": {
   "codemirror_mode": {
    "name": "ipython",
    "version": 3
   },
   "file_extension": ".py",
   "mimetype": "text/x-python",
   "name": "python",
   "nbconvert_exporter": "python",
   "pygments_lexer": "ipython3",
   "version": "3.7.6"
  }
 },
 "nbformat": 4,
 "nbformat_minor": 4
}
